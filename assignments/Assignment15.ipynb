{
  "cells": [
    {
      "cell_type": "markdown",
      "metadata": {
        "id": "view-in-github",
        "colab_type": "text"
      },
      "source": [
        "<a href=\"https://colab.research.google.com/github/brocyphers/brocyphers.github.io/blob/main/Assignment15.ipynb\" target=\"_parent\"><img src=\"https://colab.research.google.com/assets/colab-badge.svg\" alt=\"Open In Colab\"/></a>"
      ]
    },
    {
      "cell_type": "markdown",
      "metadata": {
        "id": "2QESRbyK731U"
      },
      "source": [
        "## Assignment 15 Template"
      ]
    },
    {
      "cell_type": "markdown",
      "metadata": {
        "id": "fvws--Qn8ALT"
      },
      "source": [
        "### Imports\n",
        "\n",
        "Don't touch these; we need them for the scraper to work correctly."
      ]
    },
    {
      "cell_type": "code",
      "execution_count": 83,
      "metadata": {
        "id": "1w8eCSaj73Xh"
      },
      "outputs": [],
      "source": [
        "from urllib.request import urlopen\n",
        "from bs4 import BeautifulSoup"
      ]
    },
    {
      "cell_type": "markdown",
      "metadata": {
        "id": "ObNR62I78I3C"
      },
      "source": [
        "### Getting the URL\n",
        "\n",
        "In the next cell, place the code to open the URL, and assign it to a variable."
      ]
    },
    {
      "cell_type": "code",
      "execution_count": 84,
      "metadata": {
        "id": "GkVWBZ5s8RTT"
      },
      "outputs": [],
      "source": [
        "# Code here.\n",
        "url = \"https://www.anthonypinter.com/assignment15-source.html\"\n",
        "html = urlopen(url)"
      ]
    },
    {
      "cell_type": "markdown",
      "metadata": {
        "id": "jB_g4DTK8SgM"
      },
      "source": [
        "### Making the Soup\n",
        "\n",
        "In the next cell, place the code to make the soup."
      ]
    },
    {
      "cell_type": "code",
      "execution_count": 85,
      "metadata": {
        "id": "6PbrmzzS8W2D",
        "colab": {
          "base_uri": "https://localhost:8080/"
        },
        "outputId": "827f60bf-e574-4a09-801a-4d6e56b462b0"
      },
      "outputs": [
        {
          "output_type": "stream",
          "name": "stdout",
          "text": [
            "<div class=\"col-md-4 country\">\n",
            "<h3 class=\"country-name\">\n",
            "<i class=\"flag-icon flag-icon-se\"></i>\n",
            "                            Sweden\n",
            "                        </h3>\n",
            "<div class=\"country-info\">\n",
            "<strong>Capital:</strong> <span class=\"country-capital\">Stockholm</span><br/>\n",
            "<strong>Population:</strong> <span class=\"country-population\">9828655</span><br/>\n",
            "<strong>Area (km<sup>2</sup>):</strong> <span class=\"country-area\">449964.0</span><br/>\n",
            "</div>\n",
            "</div>\n"
          ]
        }
      ],
      "source": [
        "# Code here.\n",
        "soup = BeautifulSoup(html, 'lxml')\n",
        "\n",
        "country = soup.find('i', class_=\"flag-icon flag-icon-se\").findPrevious('div')\n",
        "print(country)"
      ]
    },
    {
      "cell_type": "markdown",
      "metadata": {
        "id": "6PfPLJ3G8X2a"
      },
      "source": [
        "### Country Name\n",
        "\n",
        "In the next cell, put the code to scrape the name of the country you selected (it cannot be Andorra or Zimbabwe). After you scrape the country's name, print it as a string."
      ]
    },
    {
      "cell_type": "code",
      "execution_count": 86,
      "metadata": {
        "colab": {
          "base_uri": "https://localhost:8080/"
        },
        "id": "zJzGfr6-8sVr",
        "outputId": "6a348862-ea65-4ef9-8849-994a6f72cbca"
      },
      "outputs": [
        {
          "output_type": "stream",
          "name": "stdout",
          "text": [
            "Sweden\n"
          ]
        }
      ],
      "source": [
        "# Code here.\n",
        "countryName = country.find('h3', class_=\"country-name\").text.strip()\n",
        "print(countryName)"
      ]
    },
    {
      "cell_type": "markdown",
      "metadata": {
        "id": "ISAcFbWa8t7R"
      },
      "source": [
        "### Country Capital\n",
        "\n",
        "In the next cell, put the code to scrape the name of the capital of the country you selected. After you scrape the country's capital's name, print it as a string."
      ]
    },
    {
      "cell_type": "code",
      "execution_count": 87,
      "metadata": {
        "id": "5XUFuLAp815H",
        "colab": {
          "base_uri": "https://localhost:8080/"
        },
        "outputId": "e19d5ed1-b5af-431f-94b4-35e5b59fc3b1"
      },
      "outputs": [
        {
          "output_type": "stream",
          "name": "stdout",
          "text": [
            "Stockholm\n"
          ]
        }
      ],
      "source": [
        "# Code here.\n",
        "countryCapital = country.find('span', class_=\"country-capital\").string\n",
        "print(countryCapital)"
      ]
    },
    {
      "cell_type": "markdown",
      "metadata": {
        "id": "U0tmmp-y84Zr"
      },
      "source": [
        "### Country Population\n",
        "\n",
        "In the next cell, put the code to scrape the population of the country you selected. After you scrape the country's population, print it as a string."
      ]
    },
    {
      "cell_type": "code",
      "execution_count": 88,
      "metadata": {
        "id": "4BuQEtYS9FZY",
        "colab": {
          "base_uri": "https://localhost:8080/"
        },
        "outputId": "7221c9b5-5b07-4d8c-eb40-94b977fabcfd"
      },
      "outputs": [
        {
          "output_type": "stream",
          "name": "stdout",
          "text": [
            "9828655\n"
          ]
        }
      ],
      "source": [
        "# Code here.\n",
        "countryPopulation = country.find('span', class_=\"country-population\").string\n",
        "print(countryPopulation)"
      ]
    },
    {
      "cell_type": "markdown",
      "metadata": {
        "id": "coOJuuuI9GvG"
      },
      "source": [
        "### Country Area\n",
        "\n",
        "In the next cell, put the code to scrape the geographic size of the country you selected. After you scrape the country's size, print it as a string."
      ]
    },
    {
      "cell_type": "code",
      "execution_count": 89,
      "metadata": {
        "id": "-gOdrVoF9Lyy",
        "colab": {
          "base_uri": "https://localhost:8080/"
        },
        "outputId": "9a88828f-3b00-462f-b941-2e200ed2cff5"
      },
      "outputs": [
        {
          "output_type": "stream",
          "name": "stdout",
          "text": [
            "449964.0\n"
          ]
        }
      ],
      "source": [
        "# Code here.\n",
        "countryArea = country.find('span', class_=\"country-area\").string\n",
        "print(countryArea)"
      ]
    }
  ],
  "metadata": {
    "colab": {
      "name": "Assignment15.ipynb",
      "provenance": [],
      "collapsed_sections": [],
      "include_colab_link": true
    },
    "kernelspec": {
      "display_name": "Python 3",
      "name": "python3"
    },
    "language_info": {
      "name": "python"
    }
  },
  "nbformat": 4,
  "nbformat_minor": 0
}